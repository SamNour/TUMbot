{
 "cells": [
  {
   "cell_type": "code",
   "execution_count": 16,
   "metadata": {},
   "outputs": [
    {
     "name": "stdout",
     "output_type": "stream",
     "text": [
      "['\"subject\": \"MiM Muc/AW  Frage zu MiM 3  Semester  Wahlfächer.txt\" , ']\n",
      "['\"question\": \"Kann ich im 3. Semester des MiM Programms max. 1 Advanced Seminar und 2 Limited Courses belegen, also max 18 ECTS?\" , ']\n",
      "['\"answer\": \"Grundsätzlich ist Ihr Studienprogramm so strukturiert, dass Sie idealerweise jedes Semester 30 Credits erfüllen. Advanced Seminars und Other Limited Courses sind keine Pflicht, aber empfehlenswert zu belegen. Die Anzahl der Advanced Seminars bzw. Other Limited Courses, die Sie belegen können, hängt davon ab, wo Sie einen Fixplatz erhalten. Es gibt keine Vorgaben bei der Wahl Ihrer Electives, sodass Sie jegliche Module wählen können, die unter den wirtschaftswissenschaftlichen Wahlmodulen bzw. den sonstigen wirtschaftswissenschaftlichen Wahlmodulen in Ihrem Studienbaum in TUMonline aufgeführt sind.\" , ']\n"
     ]
    }
   ],
   "source": [
    "import csv\n",
    "import pprint\n",
    "subject =[]\n",
    "questions = []\n",
    "answers = []\n",
    "full_text = []\n",
    "with open('questions_answers.csv', 'r') as csv_file:\n",
    "    reader = csv.reader(csv_file)\n",
    "    \n",
    "    for row in reader:\n",
    "        subject.append(f\"\\\"subject\\\": \\\"{row[0]}\\\" , \")\n",
    "        questions.append(f\"\\\"question\\\": \\\"{row[1]}\\\" , \")\n",
    "        answers.append(f\"\\\"answer\\\": \\\"{row[2]}\\\" , \")\n",
    "print(subject[:1])\n",
    "print(questions[:1])\n",
    "print(answers[:1])\n",
    "\n",
    "\n"
   ]
  },
  {
   "cell_type": "code",
   "execution_count": 17,
   "metadata": {},
   "outputs": [],
   "source": [
    "for i in range(len(subject)):\n",
    "    full_text.append(f\"{subject[i]} {questions[i]} {answers[i]}\")"
   ]
  },
  {
   "cell_type": "code",
   "execution_count": 20,
   "metadata": {},
   "outputs": [
    {
     "name": "stdout",
     "output_type": "stream",
     "text": [
      "{'\"subject\": \"MiM Muc/AW  Requesting permission for master thesis.txt\" ,  \"question\": \"Can I proceed with the master thesis registration and the thesis itself under the supervision of Mr. [REDACTED] and Prof. [REDACTED] from the Professorship of Real Estate Development, which falls outside the school of management?\" ,  \"answer\": \"You need to fill in and send back the attached application form. Once you return the form, we will review your request for supervision from another TUM school and get back to you.\" , '}\n"
     ]
    }
   ],
   "source": [
    "print(set(full_text[1:2]))"
   ]
  },
  {
   "cell_type": "code",
   "execution_count": 19,
   "metadata": {},
   "outputs": [
    {
     "data": {
      "text/plain": [
       "{'test'}"
      ]
     },
     "execution_count": 19,
     "metadata": {},
     "output_type": "execute_result"
    }
   ],
   "source": [
    "test = set()\n",
    "test.add(\"test\")\n",
    "test"
   ]
  },
  {
   "cell_type": "code",
   "execution_count": 22,
   "metadata": {},
   "outputs": [
    {
     "data": {
      "text/plain": [
       "'{\"subject\": \"FIM/Re Intercultural Training - Nov. 2 2023.txt\" ,  \"question\": \"When will you get your visa and be able to come to the country?\" ,  \"answer\": \"I will be arriving in Germany by the second week of November (6th November - 10th November).\"}\\n{\"subject\": \"FIM/RE Invitation Fit for TUMorrow Day 2023.txt\" ,  \"question\": \"Why did I receive an email saying that I am not registered for the Fit for TUMorrow Day 2023 even though I have already registered?\" ,  \"answer\": \"You were not on the Anmeldeliste (registration list), so you were asked to register again and provide your registration confirmation with the details of the workshops and company interviews you desire.\"}\\n{\"subject\": \"BMT HN/Emails PM/AW_ Question about elective courses.txt\" ,  \"question\": \"Will the elective courses I registered for still take place even if the number of participants is low, or will they be cancelled, and should I register for others if needed?\" ,  \"answer\": \"The responsible professor for the elective '"
      ]
     },
     "execution_count": 22,
     "metadata": {},
     "output_type": "execute_result"
    }
   ],
   "source": [
    "lst = open(\"output\", \"r\").read().replace(\"', '\", \"\\n\")\n",
    "lst[:1000]"
   ]
  },
  {
   "cell_type": "code",
   "execution_count": null,
   "metadata": {},
   "outputs": [],
   "source": []
  }
 ],
 "metadata": {
  "kernelspec": {
   "display_name": "Python 3",
   "language": "python",
   "name": "python3"
  },
  "language_info": {
   "codemirror_mode": {
    "name": "ipython",
    "version": 3
   },
   "file_extension": ".py",
   "mimetype": "text/x-python",
   "name": "python",
   "nbconvert_exporter": "python",
   "pygments_lexer": "ipython3",
   "version": "3.10.12"
  }
 },
 "nbformat": 4,
 "nbformat_minor": 2
}
